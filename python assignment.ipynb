{
 "cells": [
  {
   "cell_type": "markdown",
   "metadata": {},
   "source": [
    "1.Create the empty list and ask user to enters only int, float elements in the list."
   ]
  },
  {
   "cell_type": "code",
   "execution_count": 2,
   "metadata": {},
   "outputs": [
    {
     "name": "stdout",
     "output_type": "stream",
     "text": [
      "Final list: [45.0, 45.0]\n"
     ]
    }
   ],
   "source": [
    "def get_numeric_list():\n",
    "    num_list = []\n",
    "    while True:\n",
    "        a= input(\"Enter an integer or float (or type 'done' to finish): \")\n",
    "        \n",
    "        if a.lower() == 'done':\n",
    "            break\n",
    "        \n",
    "        try:\n",
    "        \n",
    "            num= float(a)\n",
    "            num_list.append(num)\n",
    "        except ValueError:\n",
    "            print(\"Invalid input! Please enter only an integer or float.\")\n",
    "    \n",
    "    return num_list\n",
    "\n",
    "numeric_list = get_numeric_list()\n",
    "print(\"Final list:\", numeric_list)\n"
   ]
  },
  {
   "cell_type": "markdown",
   "metadata": {},
   "source": [
    "2.\tCreate a empty dictionary d1 ask user to enter the values using loop"
   ]
  },
  {
   "cell_type": "code",
   "execution_count": 8,
   "metadata": {},
   "outputs": [
    {
     "name": "stdout",
     "output_type": "stream",
     "text": [
      "Final dictionary: {'rev': '6', 'neha ': '4'}\n"
     ]
    }
   ],
   "source": [
    "def user_dict():\n",
    "    d1 = {}\n",
    "    \n",
    "    while True:\n",
    "        key = input(\"Enter a key (or type 'done' to finish): \")\n",
    "        if key.lower() == 'done':\n",
    "            break\n",
    "\n",
    "        value = input(\"Enter a value: \")\n",
    "        d1[key] = value \n",
    "    \n",
    "    return d1\n",
    "\n",
    "user_dict1 = user_dict()\n",
    "print(\"Final dictionary:\", user_dict1)\n"
   ]
  },
  {
   "cell_type": "markdown",
   "metadata": {},
   "source": [
    "3.\tCreate a empty dictionary d1 ask user to enter the values using comprehensive list"
   ]
  },
  {
   "cell_type": "code",
   "execution_count": 9,
   "metadata": {},
   "outputs": [
    {
     "name": "stdout",
     "output_type": "stream",
     "text": [
      "Final dictionary: {'4': 'good', '1': 'best'}\n"
     ]
    }
   ],
   "source": [
    "num_entries = int(input(\"Enter the number of key-value pairs: \"))\n",
    "d1 = {input(f\"Enter key {i+1}: \"): input(f\"Enter value for key {i+1}: \") for i in range(num_entries)}\n",
    "print(\"Final dictionary:\", d1)\n"
   ]
  },
  {
   "cell_type": "code",
   "execution_count": 1,
   "metadata": {},
   "outputs": [
    {
     "data": {
      "text/plain": [
       "10"
      ]
     },
     "execution_count": 1,
     "metadata": {},
     "output_type": "execute_result"
    }
   ],
   "source": [
    "a=10\n",
    "a"
   ]
  },
  {
   "cell_type": "markdown",
   "metadata": {},
   "source": [
    "4.\tCreate a function which will accept two integer or float parameter from user and return 4 arithmetic operations in the form of tuple. If user pass argument other than integer and float then error should be created."
   ]
  },
  {
   "cell_type": "code",
   "execution_count": 10,
   "metadata": {},
   "outputs": [
    {
     "name": "stdout",
     "output_type": "stream",
     "text": [
      "Results (Addition, Subtraction, Multiplication, Division): (39.0, -33.0, 108.0, 0.08333333333333333)\n"
     ]
    }
   ],
   "source": [
    "def arithmetic_operations(a, b):\n",
    "    try:\n",
    "        a, b = float(a), float(b) \n",
    "        return a + b, a - b, a * b, a / b if b != 0 else \"Undefined (division by zero)\"\n",
    "    except ValueError:\n",
    "        return \"Error: Both inputs must be numbers!\"\n",
    "num1 = input(\"Enter first number: \")\n",
    "num2 = input(\"Enter second number: \")\n",
    "\n",
    "result = arithmetic_operations(num1, num2)\n",
    "print(\"Results (Addition, Subtraction, Multiplication, Division):\", result)\n"
   ]
  },
  {
   "cell_type": "markdown",
   "metadata": {},
   "source": [
    "5.\t Based on the above function (Question number 4) dived the outcome of multiplication by 2. "
   ]
  },
  {
   "cell_type": "code",
   "execution_count": 14,
   "metadata": {},
   "outputs": [
    {
     "name": "stdout",
     "output_type": "stream",
     "text": [
      "Results (Addition, Subtraction,multiplication, half_multiplication, Division): (140.0, 34.0, 4611.0, 2305.5, 1.6415094339622642)\n"
     ]
    }
   ],
   "source": [
    "def arithmetic_operations(a, b):\n",
    "    try:\n",
    "        a, b = float(a), float(b)  \n",
    "        addition = a + b\n",
    "        subtraction = a - b\n",
    "        multiplication = a * b\n",
    "        division = a / b if b != 0 else \"Undefined (division by zero)\"\n",
    "        half_multiplication = multiplication / 2  \n",
    "        \n",
    "        return addition, subtraction, multiplication,half_multiplication, division\n",
    "    except ValueError:\n",
    "        return \"Error: Both inputs must be numbers!\"\n",
    "\n",
    "num1 = input(\"Enter first number: \")\n",
    "num2 = input(\"Enter second number: \")\n",
    "\n",
    "result = arithmetic_operations(num1, num2)\n",
    "print(\"Results (Addition, Subtraction,multiplication, half_multiplication, Division):\", result)\n"
   ]
  },
  {
   "cell_type": "markdown",
   "metadata": {},
   "source": [
    "6.\tcreate a function to add only string element in a list. if other than string display the appropriate message."
   ]
  },
  {
   "cell_type": "code",
   "execution_count": 15,
   "metadata": {},
   "outputs": [
    {
     "name": "stdout",
     "output_type": "stream",
     "text": [
      "Final list of strings: ['rev', 'rosh', 'kind', 'smart']\n"
     ]
    }
   ],
   "source": [
    "def str_to_list():\n",
    "    str_list = []\n",
    "    \n",
    "    while True:\n",
    "        a = input(\"Enter a string (or type 'done' to stop): \")\n",
    "        if a.lower() == 'done':\n",
    "            break\n",
    "        elif a.isdigit() or a.replace(\".\", \"\", 1).isdigit():\n",
    "            print(\"Only strings are allowed!\")\n",
    "        else:\n",
    "            str_list.append(a)\n",
    "    \n",
    "    return str_list\n",
    "\n",
    "result = str_to_list()\n",
    "print(\"Final list of strings:\", result)\n"
   ]
  },
  {
   "cell_type": "markdown",
   "metadata": {},
   "source": [
    "7.\tCreate a function to read the file and return the dictionary of total lines, total words"
   ]
  },
  {
   "cell_type": "code",
   "execution_count": 21,
   "metadata": {},
   "outputs": [],
   "source": [
    "def re_file(file):\n",
    "    try:\n",
    "        t = open(file, 'r')  \n",
    "        words = t.read().split()  \n",
    "        \n",
    "        t.seek(0)  \n",
    "        lines = t.readlines()  \n",
    "        \n",
    "        t.close() \n",
    "        \n",
    "        return {\"words\": len(words), \"lines\": len(lines)}  \n",
    "    \n",
    "    except Exception as e:  \n",
    "        print(\"Error:\", e)  \n"
   ]
  },
  {
   "cell_type": "code",
   "execution_count": 1,
   "metadata": {},
   "outputs": [],
   "source": [
    "import sys\n",
    "def  read_file(filename):\n",
    "   try:\n",
    "     with open(filename,'r')as f:\n",
    "      v=f.readlines()\n",
    "      l=len(v)\n",
    "      print(f'No of lines:{l}') \n",
    "      i=0\n",
    "      #print(type(i))\n",
    "      for j in v:\n",
    "        p= j.split()\n",
    "      #   print(type(p))\n",
    "      #   print(p)\n",
    "      #   print(type(len(p)))\n",
    "        i=i+len(p)\n",
    "     print(f'no of words are {i}')\n",
    "   except FileNotFoundError:\n",
    "      print(sys.exc_info()[0])\n",
    "   except UnicodeError:\n",
    "       print(sys.exc_info()[0])\n"
   ]
  },
  {
   "cell_type": "code",
   "execution_count": 34,
   "metadata": {},
   "outputs": [
    {
     "name": "stdout",
     "output_type": "stream",
     "text": [
      "No of lines:4\n",
      "no of words are 19\n"
     ]
    }
   ],
   "source": [
    "read_file(r\"C:\\Users\\HP\\Videos\\Captures\\cap1223.txt\")"
   ]
  },
  {
   "cell_type": "markdown",
   "metadata": {},
   "source": [
    "8.Create a function which will accept the dictionary and display key values in separate line."
   ]
  },
  {
   "cell_type": "code",
   "execution_count": 6,
   "metadata": {},
   "outputs": [],
   "source": [
    "mydict={'rev':34,'rosh':23,'riya':14}\n",
    "def mydc(**my):\n",
    "    print(my)\n",
    "    keys1=my.keys()\n",
    "    values1=my.values()\n",
    "    print('keys are ',keys1)\n",
    "    print('values are ',values1)"
   ]
  },
  {
   "cell_type": "code",
   "execution_count": 7,
   "metadata": {},
   "outputs": [
    {
     "name": "stdout",
     "output_type": "stream",
     "text": [
      "{'rev': 34, 'rosh': 23, 'riya': 14}\n",
      "keys are  dict_keys(['rev', 'rosh', 'riya'])\n",
      "values are  dict_values([34, 23, 14])\n"
     ]
    }
   ],
   "source": [
    "mydc(**mydict)"
   ]
  },
  {
   "cell_type": "markdown",
   "metadata": {},
   "source": [
    "9.Create a lambda function which will accept the dictionary and display key values in separate line."
   ]
  },
  {
   "cell_type": "code",
   "execution_count": 8,
   "metadata": {},
   "outputs": [],
   "source": [
    "l=lambda **d:[ print(f'key {i[0]},value {i[1]}') for i in d.items()]"
   ]
  },
  {
   "cell_type": "code",
   "execution_count": 9,
   "metadata": {},
   "outputs": [
    {
     "name": "stdout",
     "output_type": "stream",
     "text": [
      "key tea,value 20\n",
      "key coffee,value 25\n",
      "key milk,value 15\n"
     ]
    },
    {
     "data": {
      "text/plain": [
       "[None, None, None]"
      ]
     },
     "execution_count": 9,
     "metadata": {},
     "output_type": "execute_result"
    }
   ],
   "source": [
    "l(**{'tea':20,'coffee':25,'milk':15})"
   ]
  },
  {
   "cell_type": "markdown",
   "metadata": {},
   "source": [
    "10.Create a function to validate the password: password should contains at least one small letter, one capital letter, one number, and one special character except comma, quotes"
   ]
  },
  {
   "cell_type": "code",
   "execution_count": 11,
   "metadata": {},
   "outputs": [
    {
     "name": "stdout",
     "output_type": "stream",
     "text": [
      "pass shld have one small letter,one capital,one no,one special char and no quote,comma allowed\n"
     ]
    }
   ],
   "source": [
    "import re\n",
    "pattern=r'(?=.*[A-Z])(?=.*[a-z])(?=.*[0-9])(?=.*[!@#$%^&*])[A-Z0-9a-z@#$%^&*]*'\n",
    "a=input('enter pasword')\n",
    "try:\n",
    "  if re.fullmatch(pattern,a) :\n",
    "    print('valid password')\n",
    "  else:\n",
    "    raise Exception\n",
    "except:\n",
    "   print('pass shld have one small letter,one capital,one no,one special char and no quote,comma allowed')\n"
   ]
  },
  {
   "cell_type": "markdown",
   "metadata": {},
   "source": [
    "11.Generate a decorator having logic to accept natural numbers . which can be used in a function of factorial"
   ]
  },
  {
   "cell_type": "code",
   "execution_count": 12,
   "metadata": {},
   "outputs": [],
   "source": [
    "def mydecorato(fx):\n",
    "    def wrapper(n1):\n",
    "        if n1<0:\n",
    "            print('invalid')\n",
    "            return\n",
    "        return fx(n1)\n",
    "    return wrapper\n",
    "         #print('value should be greater than 1 or equal')\n",
    "         \n",
    "@mydecorato\n",
    "def factorial(n):\n",
    "    if n==0 or n==1:\n",
    "      return 1\n",
    "    else:\n",
    "      return n*factorial(n-1)\n"
   ]
  },
  {
   "cell_type": "code",
   "execution_count": 13,
   "metadata": {},
   "outputs": [
    {
     "data": {
      "text/plain": [
       "5040"
      ]
     },
     "execution_count": 13,
     "metadata": {},
     "output_type": "execute_result"
    }
   ],
   "source": [
    "factorial(7)"
   ]
  },
  {
   "cell_type": "markdown",
   "metadata": {},
   "source": [
    "12.Generate the decorator for a Garden visit to check if current time is between 7am to 7pm.  If true the only call the function else generate the error. \n",
    "a.Function payment_check() is active only within given time span and it will check for all user transaction in that given month.\n",
    "b.Function entry() will be perform entry transaction of the user\n",
    "c.Function exit() will update the outtime of the user if entry exists  "
   ]
  },
  {
   "cell_type": "code",
   "execution_count": 14,
   "metadata": {},
   "outputs": [],
   "source": [
    "import datetime as dt\n",
    "type(dt.datetime.now().time().hour)\n",
    "def garden(fnc):\n",
    "    def wrap():\n",
    "        n = dt.datetime.now().time().hour\n",
    "        if n >= 7 and n< 21:\n",
    "            return(fnc)\n",
    "        else:\n",
    "            print(\"garden closed\")\n",
    "    return wrap\n",
    "@garden\n",
    "def welcome():\n",
    "    print(\"welcome to great garden\")"
   ]
  },
  {
   "cell_type": "code",
   "execution_count": 19,
   "metadata": {},
   "outputs": [
    {
     "name": "stdout",
     "output_type": "stream",
     "text": [
      "garden closed\n"
     ]
    }
   ],
   "source": [
    "welcome()"
   ]
  },
  {
   "cell_type": "markdown",
   "metadata": {},
   "source": [
    "13.Create lambda function for sorting of the string"
   ]
  },
  {
   "cell_type": "code",
   "execution_count": 20,
   "metadata": {},
   "outputs": [],
   "source": [
    "a=lambda str1:''.join(sorted(str1)).strip()"
   ]
  },
  {
   "cell_type": "code",
   "execution_count": 22,
   "metadata": {},
   "outputs": [
    {
     "data": {
      "text/plain": [
       "'AEIRTV'"
      ]
     },
     "execution_count": 22,
     "metadata": {},
     "output_type": "execute_result"
    }
   ],
   "source": [
    "a('REVATI')"
   ]
  },
  {
   "cell_type": "markdown",
   "metadata": {},
   "source": [
    "15.Create a decorator to check if all input values are alpha numeric and based on it check PAN detail  AAAAA1111X , rec.no   first 3 chr next 5 number "
   ]
  },
  {
   "cell_type": "code",
   "execution_count": 23,
   "metadata": {},
   "outputs": [],
   "source": [
    "def deco(fnc):\n",
    "    def wrap(a):\n",
    "        if a.isalnum():\n",
    "            return fnc(a)\n",
    "        else:\n",
    "            print(\"wrong format\")\n",
    "    return wrap"
   ]
  },
  {
   "cell_type": "code",
   "execution_count": 24,
   "metadata": {},
   "outputs": [
    {
     "data": {
      "text/plain": [
       "'GICPM0324A'"
      ]
     },
     "execution_count": 24,
     "metadata": {},
     "output_type": "execute_result"
    }
   ],
   "source": [
    "@deco\n",
    "def vali_pan(a):\n",
    "    if re.fullmatch(\"[A-Z]{5}[0-9]{4}[A-Z]{1}\",a):\n",
    "        return a\n",
    "\n",
    "vali_pan(input(\"pancard\"))"
   ]
  },
  {
   "cell_type": "markdown",
   "metadata": {},
   "source": [
    "16.Accept 2 values from user and perform all arithmetic operations and return all"
   ]
  },
  {
   "cell_type": "code",
   "execution_count": 25,
   "metadata": {},
   "outputs": [],
   "source": [
    "def maths():\n",
    "    try:\n",
    "        a = float(input(\"enter 1st number\"))\n",
    "        b = float(input(\"enter 2nd number\"))\n",
    "        return (a+b,a-b,a*b,a/b)\n",
    "    except :\n",
    "        print(\"only numbers allowed\")"
   ]
  },
  {
   "cell_type": "code",
   "execution_count": 26,
   "metadata": {},
   "outputs": [
    {
     "data": {
      "text/plain": [
       "(46.0, 22.0, 408.0, 2.8333333333333335)"
      ]
     },
     "execution_count": 26,
     "metadata": {},
     "output_type": "execute_result"
    }
   ],
   "source": [
    "maths()"
   ]
  },
  {
   "cell_type": "markdown",
   "metadata": {},
   "source": [
    " 17.Ask user to enter any 3 input e.g name, marks , mobile_num\n",
    "if name is with other special characters then it should not not ask for next makrs input\n",
    "note: \n",
    "oCreate separate functions for validation of every variable \n",
    "oEvery single block should have proper exception\n",
    "oEvery function must have the docstring\n",
    "oOnce the validation is done dictionary has to be created and store the dictionary to one txt file"
   ]
  },
  {
   "cell_type": "code",
   "execution_count": 33,
   "metadata": {},
   "outputs": [
    {
     "name": "stdout",
     "output_type": "stream",
     "text": [
      "in\n",
      "name verified\n",
      "r verified\n",
      "all done\n"
     ]
    }
   ],
   "source": [
    "import re\n",
    "def verifyname():\n",
    "    name=input('Enter your name').replace(' ','').replace('.','')\n",
    "    if name.isalpha():\n",
    "        return name\n",
    "    else:\n",
    "        return None\n",
    "    \n",
    "def verifymarks():\n",
    "    mks=input('Enter your marks')\n",
    "    if mks.isdigit():\n",
    "        return mks\n",
    "    else:\n",
    "        return None\n",
    "    \n",
    "def verifymobileno():\n",
    "    pattern='^[0-9]{10}'\n",
    "    mobno=input('enter mobile number')\n",
    "    if re.fullmatch(pattern,mobno):\n",
    "        return mobno\n",
    "    else:\n",
    "        return None\n",
    "with open(r\"C:\\Users\\HP\\Videos\\Captures\\cap1223.txt\",'a') as f:\n",
    "    pass\n",
    "m_dict={}\n",
    "def mainfunc():\n",
    "     print('in')\n",
    "     a=verifyname()\n",
    "     if a:\n",
    "         print('name verified')\n",
    "         b=verifymarks()\n",
    "         if b:\n",
    "             print('r verified')\n",
    "             c=verifymobileno()\n",
    "             if c:\n",
    "                 print('all done')\n",
    "                 m_dict['name']=a\n",
    "                 m_dict['mks']=b\n",
    "                 m_dict['mob_no']=c\n",
    "                 with open(r\"C:\\Users\\HP\\Videos\\Captures\\cap1223.txt\",'a') as f:\n",
    "                     \n",
    "\n",
    "                   f.write(str(m_dict))\n",
    "                   f.close()\n",
    "                     \n",
    "mainfunc()"
   ]
  },
  {
   "cell_type": "markdown",
   "metadata": {},
   "source": [
    "18.Segregate file in small , medium and large size in different folder\n",
    "ofilesize less than and equal to 10KB is small file\n",
    "ofilesize more than 10 KB is the medium file\n",
    "ofilesize more than 40 kb is the large file\n",
    "ocreate the log file "
   ]
  },
  {
   "cell_type": "code",
   "execution_count": 36,
   "metadata": {},
   "outputs": [
    {
     "name": "stdout",
     "output_type": "stream",
     "text": [
      "The provided folder path does not exist.\n"
     ]
    }
   ],
   "source": [
    "import os\n",
    "import shutil\n",
    "\n",
    "def segregate(source_folder):\n",
    "\n",
    "    small_folder = os.path.join(source_folder, \"Small Size\")\n",
    "    middle_folder = os.path.join(source_folder, \"Middle Size\")\n",
    "    large_folder = os.path.join(source_folder, \"Large Size\")\n",
    "\n",
    "    os.makedirs(small_folder, exist_ok=True)\n",
    "    os.makedirs(middle_folder, exist_ok=True)\n",
    "    os.makedirs(large_folder, exist_ok=True)\n",
    "\n",
    "\n",
    "    small_size_limit = 1024 * 100  \n",
    "    middle_size_limit = 1024 * 1024 * 5 \n",
    "\n",
    "    for filename in os.listdir(source_folder):\n",
    "        file_path = os.path.join(source_folder, filename)\n",
    "\n",
    "    \n",
    "        if os.path.isdir(file_path):\n",
    "            continue\n",
    "\n",
    "        \n",
    "        file_size = os.path.getsize(file_path)\n",
    "\n",
    "        if file_size <= small_size_limit:\n",
    "            shutil.move(file_path, small_folder)\n",
    "        elif file_size <= middle_size_limit:\n",
    "            shutil.move(file_path, middle_folder)\n",
    "        else:\n",
    "            shutil.move(file_path, large_folder)\n",
    "\n",
    "    print(\"Files have been segregated into respective folders.\")\n",
    "\n",
    "source_directory = input(\"Enter the path of the folder to segregate: \").strip()\n",
    "if os.path.exists(source_directory):\n",
    "    segregate(source_directory)\n",
    "else:\n",
    "    print(\"The provided folder path does not exist.\")"
   ]
  },
  {
   "cell_type": "markdown",
   "metadata": {},
   "source": [
    " 19.In the hotel user is entering the details of menu, quantity and printing the bill. number of menu may varies with customer's order \n",
    "\tgenerate a file having grocery bill as per the below format"
   ]
  },
  {
   "cell_type": "code",
   "execution_count": 37,
   "metadata": {},
   "outputs": [
    {
     "name": "stdout",
     "output_type": "stream",
     "text": [
      "------------------------------------------------------------\n",
      "                       Bill                       \n",
      "------------------------------------------------------------\n",
      "                  Hotel Kanchan                   \n",
      "               Address:Bavdhan,Pune               \n",
      "                 Tel: 02172302499                 \n",
      "------------------------------------------------------------\n",
      "Quantity   Item                               Amount\n",
      "------------------------------------------------------------\n",
      "1          Tea                                    20\n",
      "2          Hot Coffee                             50\n",
      "1          Maggi                                  50\n",
      "3          Dosa                                  225\n",
      "4          Poha                                  120\n",
      "1          Upama                                  25\n",
      "------------------------------------------------------------\n",
      "Total                                        490.00\n",
      "                    Thank you!                    \n"
     ]
    }
   ],
   "source": [
    "def Bill():\n",
    "    items = {\n",
    "        \"Tea\": 20,\n",
    "        \"Hot Coffee\": 25,\n",
    "        \"Maggi\": 50,\n",
    "        \"Idli\": 45,\n",
    "        \"Dosa\": 75,\n",
    "        \"Poha\":30,\n",
    "        \"Upama\":25\n",
    "    }\n",
    "    print(\"-\" * 60)\n",
    "    print(\"{:^50}\".format(\"Bill\"))\n",
    "    print(\"-\" * 60)\n",
    "    print(\"{:^50}\".format(\"Hotel Kanchan\"))\n",
    "    print(\"{:^50}\".format(\"Address:Bavdhan,Pune\"))\n",
    "    print(\"{:^50}\".format(\"Tel: 02172302499\"))\n",
    "    print(\"-\" * 60)\n",
    "    print(\"{:<10} {:<30} {:>10}\".format(\"Quantity\", \"Item\", \"Amount\"))\n",
    "    print(\"-\" * 60)\n",
    "\n",
    "\n",
    "    total = 0\n",
    "    for item, price in items.items():\n",
    "        while True:\n",
    "            try:\n",
    "                qty=int(input(f\"Enter quantity for{item} (Price:{price}/-):\"))\n",
    "                if qty<0:\n",
    "                    print(\"Quantity cannot be negative.Please try again.\")\n",
    "                    continue\n",
    "                if qty>0:\n",
    "                    amount=qty*price\n",
    "                    total+=amount\n",
    "                    print(\"{:<10} {:<30} {:>10}\".format(qty, item, amount))\n",
    "                break\n",
    "            except ValueError:\n",
    "                print(\"Invalid input.Please enter integer for quantity\")\n",
    "    print(\"-\" * 60)\n",
    "    print(\"{:<40} {:>10.2f}\".format(\"Total\", total))\n",
    "    print(\"{:^50}\".format(\"Thank you!\"))\n",
    "\n",
    "Bill()"
   ]
  },
  {
   "cell_type": "markdown",
   "metadata": {},
   "source": [
    "20.Ask user to enter the valid file path and check which word is having more repetition in the file"
   ]
  },
  {
   "cell_type": "code",
   "execution_count": 38,
   "metadata": {},
   "outputs": [
    {
     "name": "stdout",
     "output_type": "stream",
     "text": [
      "Invalid file path\n"
     ]
    }
   ],
   "source": [
    "import os\n",
    "\n",
    "try:\n",
    "    p= input(\"Please enter a valid file path: \")\n",
    "    f= open(p, 'r') \n",
    "    r= f.read().lower()  \n",
    "    words = r.split()    \n",
    "    c_words= {}\n",
    "\n",
    "    for i in words:\n",
    "        if i in  c_words:\n",
    "             c_words[i] += 1\n",
    "             \n",
    "        else:\n",
    "             c_words[i] = 1\n",
    "\n",
    "    max_fre = 0\n",
    "    max_count = 0\n",
    "    for i, j in c_words.items():\n",
    "        if j > max_count:\n",
    "            max_fre = i\n",
    "            max_count = j\n",
    "\n",
    "    print(f\" '{max_fre}' = {max_count} \")\n",
    "except:\n",
    "    print(\"Invalid file path\")\n"
   ]
  },
  {
   "cell_type": "markdown",
   "metadata": {},
   "source": [
    "21.Create a function which will accept the word and the file path and returns the dictionary as {word: occurances}"
   ]
  },
  {
   "cell_type": "code",
   "execution_count": 42,
   "metadata": {},
   "outputs": [],
   "source": [
    "import sys \n",
    "\n",
    "\n",
    "def acceptfilepathword(path,word):\n",
    "     l=[]\n",
    "     try:\n",
    "         with open (path,'r') as f:\n",
    "            \n",
    "            for i in f.readlines():\n",
    "               \n",
    "               j=i.split()\n",
    "               l.extend(j)\n",
    "               s=set(l)\n",
    "          \n",
    "            for i in s:\n",
    "               if i==word:\n",
    "                   v=l.count(i)\n",
    "                   print(f'your word {i} occured {v} times')\n",
    "            \n",
    "            f.close()  \n",
    "  \n",
    "     except : \n",
    "         print(sys.exc_info()[1])    "
   ]
  },
  {
   "cell_type": "code",
   "execution_count": 43,
   "metadata": {},
   "outputs": [],
   "source": [
    "acceptfilepathword(r\"C:\\Users\\HP\\Videos\\Captures\\cap1223.txt\",'a')"
   ]
  },
  {
   "cell_type": "markdown",
   "metadata": {},
   "source": [
    "22.Create a function which will accept one file and returns all occurrences of the word\n",
    "{‘market’ : 3, ‘is’:5, ‘new’:2}"
   ]
  },
  {
   "cell_type": "code",
   "execution_count": 45,
   "metadata": {},
   "outputs": [],
   "source": [
    "import sys\n",
    "def acceptfilepath(path):\n",
    "     l=[]\n",
    "     fdict={}\n",
    "\n",
    "     try:\n",
    "         with open (path,'r') as f:\n",
    "            \n",
    "            for i in f.readlines():\n",
    "               j=i.split()\n",
    "               l.extend(j)\n",
    "          \n",
    "            for i in l:\n",
    "               if i not  in fdict:\n",
    "                   fdict[i]=1\n",
    "               elif i in fdict:\n",
    "                    fdict[i]=fdict[i]+1\n",
    "            f.close()\n",
    "            print(fdict)\n",
    "            \n",
    "     except :\n",
    "         print(sys.exc_info()[1])  "
   ]
  },
  {
   "cell_type": "code",
   "execution_count": 46,
   "metadata": {},
   "outputs": [
    {
     "name": "stdout",
     "output_type": "stream",
     "text": [
      "{'Good': 1, 'Afternoon': 1, 'This': 1, 'is': 1, 'our': 1, 'new': 1, 'file': 1, 'As': 1, 'you': 2, 'sow': 1, 'shall': 1, 'reap': 1, \"End{'name':\": 1, \"'revati',\": 1, \"'mks':\": 1, \"'20',\": 1, \"'mob_no':\": 1, \"'9423123399'}\": 1}\n"
     ]
    }
   ],
   "source": [
    "acceptfilepath(r\"C:\\Users\\HP\\Videos\\Captures\\cap1223.txt\")"
   ]
  },
  {
   "cell_type": "markdown",
   "metadata": {},
   "source": [
    "23.Based on logic mentioned in question number 8 create the class"
   ]
  },
  {
   "cell_type": "code",
   "execution_count": 47,
   "metadata": {},
   "outputs": [],
   "source": [
    "class dict1:\n",
    "    def __init__(self,**my):\n",
    "        print('inititaed')\n",
    "        self.dict=my\n",
    "        print('donr')\n",
    "\n",
    "    def showdict(self):\n",
    "       print(self.dict)\n",
    "    def getkeys(self):\n",
    "      return f' keys are {self.dict.keys()}'\n",
    "    def getvalues(self):\n",
    "       return f'values are {self.dict.values()}'"
   ]
  },
  {
   "cell_type": "code",
   "execution_count": 48,
   "metadata": {},
   "outputs": [
    {
     "name": "stdout",
     "output_type": "stream",
     "text": [
      "inititaed\n",
      "donr\n",
      "{'1': 2, '2': 3, '3': 4}\n"
     ]
    },
    {
     "data": {
      "text/plain": [
       "'values are dict_values([2, 3, 4])'"
      ]
     },
     "execution_count": 48,
     "metadata": {},
     "output_type": "execute_result"
    }
   ],
   "source": [
    "mydict={'1':2,'2':3,'3':4}\n",
    "d1=dict1(**mydict)\n",
    "d1.showdict()\n",
    "d1.getkeys()\n",
    "d1.getvalues()"
   ]
  },
  {
   "cell_type": "markdown",
   "metadata": {},
   "source": [
    " 24.Ask user to enter the folder path. Folder may contain more than one file and with different extensions. Read only text file and return the more repetitive word"
   ]
  },
  {
   "cell_type": "code",
   "execution_count": 49,
   "metadata": {},
   "outputs": [
    {
     "data": {
      "text/plain": [
       "'C:\\\\Users\\\\HP\\\\Videos\\\\Captures\\\\cap1223.txt'"
      ]
     },
     "execution_count": 49,
     "metadata": {},
     "output_type": "execute_result"
    }
   ],
   "source": [
    "import os\n",
    "os.path.join(r\"C:\\Users\\HP\\Videos\\Captures\\cap1223.txt\")"
   ]
  },
  {
   "cell_type": "code",
   "execution_count": 53,
   "metadata": {},
   "outputs": [],
   "source": [
    "import os\n",
    "def takepath1(folderpath):\n",
    "  for i in os.listdir(folderpath):\n",
    "    if i.lower().endswith('.txt'):\n",
    "        print(i)\n",
    "        filepath=os.path.join(folderpath,i)\n",
    "        acceptfilepath0(filepath)\n"
   ]
  },
  {
   "cell_type": "code",
   "execution_count": 54,
   "metadata": {},
   "outputs": [
    {
     "name": "stdout",
     "output_type": "stream",
     "text": [
      "'emp1.csv'.txt\n"
     ]
    },
    {
     "ename": "NameError",
     "evalue": "name 'acceptfilepath0' is not defined",
     "output_type": "error",
     "traceback": [
      "\u001b[1;31m---------------------------------------------------------------------------\u001b[0m",
      "\u001b[1;31mNameError\u001b[0m                                 Traceback (most recent call last)",
      "Cell \u001b[1;32mIn[54], line 1\u001b[0m\n\u001b[1;32m----> 1\u001b[0m \u001b[43mtakepath1\u001b[49m\u001b[43m(\u001b[49m\u001b[38;5;124;43mr\u001b[39;49m\u001b[38;5;124;43m\"\u001b[39;49m\u001b[38;5;124;43mC:\u001b[39;49m\u001b[38;5;124;43m\\\u001b[39;49m\u001b[38;5;124;43mUsers\u001b[39;49m\u001b[38;5;124;43m\\\u001b[39;49m\u001b[38;5;124;43mHP\u001b[39;49m\u001b[38;5;124;43m\\\u001b[39;49m\u001b[38;5;124;43mDownloads\u001b[39;49m\u001b[38;5;124;43m\"\u001b[39;49m\u001b[43m)\u001b[49m\n",
      "Cell \u001b[1;32mIn[53], line 7\u001b[0m, in \u001b[0;36mtakepath1\u001b[1;34m(folderpath)\u001b[0m\n\u001b[0;32m      5\u001b[0m \u001b[38;5;28mprint\u001b[39m(i)\n\u001b[0;32m      6\u001b[0m filepath\u001b[38;5;241m=\u001b[39mos\u001b[38;5;241m.\u001b[39mpath\u001b[38;5;241m.\u001b[39mjoin(folderpath,i)\n\u001b[1;32m----> 7\u001b[0m \u001b[43macceptfilepath0\u001b[49m(filepath)\n",
      "\u001b[1;31mNameError\u001b[0m: name 'acceptfilepath0' is not defined"
     ]
    }
   ],
   "source": [
    "takepath1(r\"C:\\Users\\HP\\Downloads\")"
   ]
  },
  {
   "cell_type": "markdown",
   "metadata": {},
   "source": [
    " 25.Create a class for file reading"
   ]
  },
  {
   "cell_type": "code",
   "execution_count": 55,
   "metadata": {},
   "outputs": [
    {
     "name": "stdout",
     "output_type": "stream",
     "text": [
      "Good Afternoon\n",
      "This is our new file\n",
      "As you sow you shall reap \n",
      "End{'name': 'revati', 'mks': '20', 'mob_no': '9423123399'}\n",
      "  file reading done closing the file\n"
     ]
    }
   ],
   "source": [
    "class fileread:\n",
    "    def __init__(self,filepath):\n",
    "        self.path=filepath\n",
    "     \n",
    "    def  readfile(self):\n",
    "        with open(self.path,'r') as f:\n",
    "            i=f.read()\n",
    "            print(i)\n",
    "            print('  file reading done closing the file')\n",
    "            f.close()\n",
    "\n",
    "f1=fileread(r\"C:\\Users\\HP\\Videos\\Captures\\cap1223.txt\")\n",
    "f1.path\n",
    "f1.readfile()"
   ]
  },
  {
   "cell_type": "markdown",
   "metadata": {},
   "source": [
    "26.Create a function which will accept the dictionary. Dictionary may have values any date type format. If values are in integer or float then return respective key"
   ]
  },
  {
   "cell_type": "code",
   "execution_count": 56,
   "metadata": {},
   "outputs": [],
   "source": [
    "try:\n",
    "   def f3(**kwargs):\n",
    "     for k,v in kwargs.items():\n",
    "        if type(v)==int:\n",
    "            print(k)\n",
    "except:\n",
    "   print('inside error ')\n",
    "   print(sys.exc.info()[1])"
   ]
  },
  {
   "cell_type": "code",
   "execution_count": 57,
   "metadata": {},
   "outputs": [
    {
     "name": "stdout",
     "output_type": "stream",
     "text": [
      "good\n",
      "better\n",
      "best\n"
     ]
    }
   ],
   "source": [
    "mydict={'good':2,'better':3,'best':4,'name':'reva'}\n",
    "try:\n",
    "  f3(**mydict)\n",
    "except:\n",
    "  print(sys.exc_info()[1])"
   ]
  },
  {
   "cell_type": "markdown",
   "metadata": {},
   "source": [
    "27.Create one decorator having exception logic inside it and create another function which will refer to the decorator in case of errors\n",
    "e.g  val_name is the function validating name but customized error should be thrown from decorator"
   ]
  },
  {
   "cell_type": "code",
   "execution_count": 59,
   "metadata": {},
   "outputs": [],
   "source": [
    "import sys\n",
    "def errordecorator(fx):\n",
    "    def wrapper(*args,**kwargs):\n",
    "        try:\n",
    "            return fx()\n",
    "        except NameError:\n",
    "            print('Nameerror')\n",
    "        except ValueError:\n",
    "            print('ValueError')\n",
    "        except:\n",
    "            print(sys.exc_info()[1])\n",
    "    return wrapper\n",
    "\n",
    "@errordecorator    \n",
    "def add():\n",
    "   n1=input('enter 1st no to add')\n",
    "   n2=input('enter 2nd no yo add')\n",
    "   a=int(n1)\n",
    "   b=int(n2)\n",
    "   return a+b\n",
    "\n",
    "@errordecorator\n",
    "def verifyname():\n",
    "    name=input('Enter your name').replace(' ','').replace('.','')\n",
    "    if name.isalpha():\n",
    "        return name\n",
    "       "
   ]
  },
  {
   "cell_type": "code",
   "execution_count": 60,
   "metadata": {},
   "outputs": [
    {
     "data": {
      "text/plain": [
       "'reva'"
      ]
     },
     "execution_count": 60,
     "metadata": {},
     "output_type": "execute_result"
    }
   ],
   "source": [
    "verifyname()"
   ]
  },
  {
   "cell_type": "markdown",
   "metadata": {},
   "source": [
    "28.Create a class User.  User will be instantiated based on key available in the dictionary. If dictionary is not having the key then generate error. If dictionary is having the key then display values against the same"
   ]
  },
  {
   "cell_type": "code",
   "execution_count": 63,
   "metadata": {},
   "outputs": [
    {
     "ename": "NameError",
     "evalue": "name 'User1' is not defined",
     "output_type": "error",
     "traceback": [
      "\u001b[1;31m---------------------------------------------------------------------------\u001b[0m",
      "\u001b[1;31mNameError\u001b[0m                                 Traceback (most recent call last)",
      "Cell \u001b[1;32mIn[63], line 1\u001b[0m\n\u001b[1;32m----> 1\u001b[0m \u001b[38;5;28;01mclass\u001b[39;00m \u001b[38;5;21;01mUser1\u001b[39;00m:\n\u001b[0;32m      2\u001b[0m     \u001b[38;5;28;01mdef\u001b[39;00m \u001b[38;5;21m__init__\u001b[39m(\u001b[38;5;28mself\u001b[39m, d1):\n\u001b[0;32m      3\u001b[0m         \u001b[38;5;28;01mtry\u001b[39;00m:\n",
      "Cell \u001b[1;32mIn[63], line 17\u001b[0m, in \u001b[0;36mUser1\u001b[1;34m()\u001b[0m\n\u001b[0;32m     13\u001b[0m \u001b[38;5;28;01mdef\u001b[39;00m \u001b[38;5;21mdisplay\u001b[39m(\u001b[38;5;28mself\u001b[39m):\n\u001b[0;32m     14\u001b[0m     \u001b[38;5;28mprint\u001b[39m(\u001b[38;5;124mf\u001b[39m\u001b[38;5;124m\"\u001b[39m\u001b[38;5;132;01m{\u001b[39;00m\u001b[38;5;28mself\u001b[39m\u001b[38;5;241m.\u001b[39mkey\u001b[38;5;132;01m}\u001b[39;00m\u001b[38;5;124m : \u001b[39m\u001b[38;5;132;01m{\u001b[39;00m\u001b[38;5;28mself\u001b[39m\u001b[38;5;241m.\u001b[39mvalue\u001b[38;5;132;01m}\u001b[39;00m\u001b[38;5;124m\"\u001b[39m)\n\u001b[1;32m---> 17\u001b[0m user \u001b[38;5;241m=\u001b[39m \u001b[43mUser1\u001b[49m({\u001b[38;5;124m\"\u001b[39m\u001b[38;5;124mone\u001b[39m\u001b[38;5;124m\"\u001b[39m:\u001b[38;5;124m\"\u001b[39m\u001b[38;5;124mjim\u001b[39m\u001b[38;5;124m\"\u001b[39m,\u001b[38;5;124m\"\u001b[39m\u001b[38;5;124mtwo\u001b[39m\u001b[38;5;124m\"\u001b[39m:\u001b[38;5;124m\"\u001b[39m\u001b[38;5;124mpam\u001b[39m\u001b[38;5;124m\"\u001b[39m,\u001b[38;5;124m\"\u001b[39m\u001b[38;5;124mthree\u001b[39m\u001b[38;5;124m\"\u001b[39m:\u001b[38;5;124m\"\u001b[39m\u001b[38;5;124mdwight\u001b[39m\u001b[38;5;124m\"\u001b[39m})\n\u001b[0;32m     18\u001b[0m user\u001b[38;5;241m.\u001b[39mdisplay()\n",
      "\u001b[1;31mNameError\u001b[0m: name 'User1' is not defined"
     ]
    }
   ],
   "source": [
    "class User1:\n",
    "    def __init__(self, d1):\n",
    "        try:\n",
    "            i= input(f\"enter from {d1.keys()} \")\n",
    "            if i  in d1:\n",
    "                self.key = i\n",
    "                self.value = d1[i]\n",
    "            else:\n",
    "                raise Exception(f\"Error: '{i}' key not found \")\n",
    "        except Exception as e:\n",
    "            print(e)\n",
    "\n",
    "    def display(self):\n",
    "        print(f\"{self.key} : {self.value}\")\n",
    "\n",
    "\n",
    "    user = User1({\"one\":\"jim\",\"two\":\"pam\",\"three\":\"dwight\"})\n",
    "    user.display()"
   ]
  },
  {
   "cell_type": "markdown",
   "metadata": {},
   "source": [
    "29.Create a class pharma. One user A will enter the medicine name and price.  Another user B will generate the bill based on entry done by the first user"
   ]
  },
  {
   "cell_type": "code",
   "execution_count": null,
   "metadata": {},
   "outputs": [
    {
     "ename": "NameError",
     "evalue": "name 'exc_han' is not defined",
     "output_type": "error",
     "traceback": [
      "\u001b[1;31m---------------------------------------------------------------------------\u001b[0m",
      "\u001b[1;31mNameError\u001b[0m                                 Traceback (most recent call last)",
      "Cell \u001b[1;32mIn[3], line 1\u001b[0m\n\u001b[1;32m----> 1\u001b[0m \u001b[38;5;129m@exc_han\u001b[39m\n\u001b[0;32m      2\u001b[0m \u001b[38;5;28;01mdef\u001b[39;00m \u001b[38;5;21mvalid_name\u001b[39m():\n\u001b[0;32m      4\u001b[0m     \u001b[38;5;28;01mwhile\u001b[39;00m \u001b[38;5;28;01mTrue\u001b[39;00m:\n\u001b[0;32m      5\u001b[0m         a \u001b[38;5;241m=\u001b[39m \u001b[38;5;28minput\u001b[39m(\u001b[38;5;124m'\u001b[39m\u001b[38;5;124mEnter the name\u001b[39m\u001b[38;5;124m'\u001b[39m)\n",
      "\u001b[1;31mNameError\u001b[0m: name 'exc_han' is not defined"
     ]
    }
   ],
   "source": [
    "@exc_han\n",
    "def valid_name():\n",
    " \n",
    "    while True:\n",
    "        a = input('Enter the name')\n",
    "        if a.isalpha():\n",
    "            return a.title()\n",
    "        else:\n",
    "            continue\n",
    "@exc_han\n",
    "def passw():\n",
    "     while True:\n",
    "        a = input('Enter the Password')\n",
    "        if re.fullmatch(r'(?=.*[A-z])(?=.*[a-z])(?=.*[0-9])(?=.*[!@#$%^&*])[A-za-z0-9!@#$%^&*()]{8,}',a):\n",
    "            return a\n",
    "        else:\n",
    "            continue"
   ]
  },
  {
   "cell_type": "code",
   "execution_count": 8,
   "metadata": {},
   "outputs": [
    {
     "ename": "SyntaxError",
     "evalue": "f-string: expecting '}' (3308711056.py, line 28)",
     "output_type": "error",
     "traceback": [
      "\u001b[1;36m  Cell \u001b[1;32mIn[8], line 28\u001b[1;36m\u001b[0m\n\u001b[1;33m    print(f\"{\" \":^20}  {dt.datetime.now().date()} bill_no: {int(random.random()*100)}\\n\")\u001b[0m\n\u001b[1;37m                                                                                        ^\u001b[0m\n\u001b[1;31mSyntaxError\u001b[0m\u001b[1;31m:\u001b[0m f-string: expecting '}'\n"
     ]
    }
   ],
   "source": [
    "class pahrma_entry:\n",
    "    @exc_han\n",
    "    def __init__(self):\n",
    "        self.name=valid_name()\n",
    "        self.__pass =passw()\n",
    "        self.inv = {}\n",
    "        self.total = 0\n",
    "    @exc_han\n",
    "    def enter(self):\n",
    "        while True:\n",
    "            a = input(\"medicine name\")\n",
    "            b = int(input(\"price\"))\n",
    "            self.total +=b\n",
    "            self.inv[a]=b\n",
    "            c = input(\"for continue type yes\")\n",
    "            if c==\"yes\":\n",
    "                continue\n",
    "            else:\n",
    "                break\n",
    "\n",
    "class pharma_bill:\n",
    "    @exc_han\n",
    "    def __init__(self):\n",
    "        self.name=valid_name()\n",
    "        self.__pass =passw()\n",
    "    \n",
    "    def print(self,obj):\n",
    "        print(f\"{\" \":^20}  {dt.datetime.now().date()} bill_no: {int(random.random()*100)}\\n\")\n",
    "        print(f\"{\"item\":^20}  {\"price\":^20}\\n\")\n",
    "        print(f\"{'*'*50}\")\n",
    "        for i in obj.inv:\n",
    "            print(f\"{i:^20}  {obj.inv[i]:^20}\")\n",
    "        print(f\"{'*'*50}\")\n",
    "        print(f\"{'Total:':^20} {obj.total:^20}\\n\")\n",
    "       "
   ]
  },
  {
   "cell_type": "code",
   "execution_count": 9,
   "metadata": {},
   "outputs": [
    {
     "ename": "NameError",
     "evalue": "name 'pharma_entry' is not defined",
     "output_type": "error",
     "traceback": [
      "\u001b[1;31m---------------------------------------------------------------------------\u001b[0m",
      "\u001b[1;31mNameError\u001b[0m                                 Traceback (most recent call last)",
      "Cell \u001b[1;32mIn[9], line 1\u001b[0m\n\u001b[1;32m----> 1\u001b[0m a \u001b[38;5;241m=\u001b[39m\u001b[43mpharma_entry\u001b[49m()\n",
      "\u001b[1;31mNameError\u001b[0m: name 'pharma_entry' is not defined"
     ]
    }
   ],
   "source": [
    "a =pharma_entry()"
   ]
  },
  {
   "cell_type": "code",
   "execution_count": 24,
   "metadata": {},
   "outputs": [],
   "source": [
    "med1={}\n",
    "\n",
    "class pharma:\n",
    "    def __init__(self):\n",
    "        pass \n",
    "\n",
    "\n",
    "    def entermeds(self):\n",
    "       med=input('enter medicine name')\n",
    "       price=input('enter price of medicine')\n",
    "       if med  not in med1.keys():\n",
    "           med1[med]=price\n",
    "       else:\n",
    "           print('no need to add ')\n",
    "\n",
    "    def billgenr(self):\n",
    "        l=0\n",
    "        no_of_products=int(input('enter no of med bought'))\n",
    "        print(type(no_of_products))\n",
    "        print('{:-^60}'.format('bill'))\n",
    "        print('{:>10}{:>20}{:>30}'.format('med','qty','price'))\n",
    "        for i in range(no_of_products):\n",
    "          bmed=input('enter the med u bought')\n",
    "          qty=int(input('enter qty '))\n",
    "          p=med1[bmed]\n",
    "          tp=qty*int(p)\n",
    "          \n",
    "\n",
    "          print('{:.10}{:>20}{:>30}'.format(bmed,qty,tp))\n",
    "          l=l+tp\n",
    "          print('{:>28}{:>30}'.format('totalsum',l))\n",
    "\n",
    "         "
   ]
  },
  {
   "cell_type": "code",
   "execution_count": 28,
   "metadata": {},
   "outputs": [
    {
     "name": "stdout",
     "output_type": "stream",
     "text": [
      "no need to add \n"
     ]
    }
   ],
   "source": [
    "p1=pharma()\n",
    "p1.entermeds()"
   ]
  },
  {
   "cell_type": "code",
   "execution_count": 29,
   "metadata": {},
   "outputs": [
    {
     "name": "stdout",
     "output_type": "stream",
     "text": [
      "<class 'int'>\n",
      "----------------------------bill----------------------------\n",
      "       med                 qty                         price\n",
      "crocin                   4                           228\n",
      "                    totalsum                           228\n"
     ]
    }
   ],
   "source": [
    "p1.billgenr()"
   ]
  },
  {
   "cell_type": "markdown",
   "metadata": {},
   "source": [
    "30.Read the file if the file contains number, then return the dictionary based on position and values of the number.\n",
    "For example:"
   ]
  },
  {
   "cell_type": "code",
   "execution_count": 30,
   "metadata": {},
   "outputs": [],
   "source": [
    "def ref(path):\n",
    "    with open(path,'r') as f:\n",
    "     rdict={}\n",
    "\n",
    "     pos=0\n",
    "     for i in f.readlines():\n",
    "          j=i.split()\n",
    "          for k in j:\n",
    "            \n",
    "            try:\n",
    "\n",
    "               int(k)\n",
    "               print(k)\n",
    "               print(pos)\n",
    "               \n",
    "               rdict[pos]=k\n",
    "               \n",
    "               \n",
    "               \n",
    "            except:\n",
    "               pass\n",
    "               pos=pos+len(k)+1\n",
    "     return rdict"
   ]
  },
  {
   "cell_type": "code",
   "execution_count": 31,
   "metadata": {},
   "outputs": [
    {
     "data": {
      "text/plain": [
       "{}"
      ]
     },
     "execution_count": 31,
     "metadata": {},
     "output_type": "execute_result"
    }
   ],
   "source": [
    "ref(r\"C:\\Users\\HP\\Videos\\Captures\\cap1223.txt\")"
   ]
  },
  {
   "cell_type": "markdown",
   "metadata": {},
   "source": [
    "32.In hotel booking portal, user will enter pan card name and mobile number, store the same information into dictionary after successful booking user will get confirmation number. \n"
   ]
  },
  {
   "cell_type": "code",
   "execution_count": 32,
   "metadata": {},
   "outputs": [],
   "source": [
    "class hotel:\n",
    "    def __init__(self):\n",
    "        self.info={}\n",
    "    def bookroom(self,name,mobileno,pancard):\n",
    "        if verifyname(name):\n",
    "            if verifymobileno(mobileno):\n",
    "                if panrverify(pancard):\n",
    "                    self.info[name]=[mobileno,pancard]\n",
    "                    print('booking succesful')"
   ]
  },
  {
   "cell_type": "code",
   "execution_count": 33,
   "metadata": {},
   "outputs": [],
   "source": [
    "def verifyname():\n",
    "    name=input('Enter your name').replace(' ','').replace('.','')\n",
    "    if name.isalpha():\n",
    "        return name\n",
    "    else:\n",
    "        return None\n",
    "    \n",
    "\n",
    "def verifymobileno():\n",
    "    pattern='^[0-9]{10}'\n",
    "    mobno=input('enter mobile number')\n",
    "    if re.fullmatch(pattern,mobno):\n",
    "        return mobno\n",
    "    else:\n",
    "        return None\n",
    "\n",
    "def panrverify(pancard,recno):\n",
    "    pattern1='^[A-Z]{5}[0-9]{4}[A-Z]$'\n",
    "    \n",
    "    if re.fullmatch(pattern1,pancard):\n",
    "        return pancard\n",
    "      \n",
    "    else:\n",
    "        return None "
   ]
  },
  {
   "cell_type": "markdown",
   "metadata": {},
   "source": []
  }
 ],
 "metadata": {
  "kernelspec": {
   "display_name": "base",
   "language": "python",
   "name": "python3"
  },
  "language_info": {
   "codemirror_mode": {
    "name": "ipython",
    "version": 3
   },
   "file_extension": ".py",
   "mimetype": "text/x-python",
   "name": "python",
   "nbconvert_exporter": "python",
   "pygments_lexer": "ipython3",
   "version": "3.10.9"
  }
 },
 "nbformat": 4,
 "nbformat_minor": 2
}
