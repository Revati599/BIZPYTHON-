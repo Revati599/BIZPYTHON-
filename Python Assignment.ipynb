{
 "cells": [
  {
   "cell_type": "code",
   "execution_count": 3,
   "metadata": {},
   "outputs": [
    {
     "name": "stdout",
     "output_type": "stream",
     "text": [
      "Integer List: []\n",
      "String DataType List: []\n",
      "List's List : [\"[1,2],{'A':3,'B':4},(23,67.98)\"]\n"
     ]
    }
   ],
   "source": [
    "#TASK1\n",
    "userinput = input(\"Enter the elements\").split()\n",
    "intlist = []\n",
    "Strlist = []\n",
    "ListDtype = []\n",
    "  \n",
    "if len(userinput) > 0:\n",
    "    for i in userinput:\n",
    "      if i.isdigit(): \n",
    "        intlist.append(int(i))  \n",
    "      elif i.isalpha():\n",
    "        Strlist.append(i)\n",
    "      elif ',' in i and len(i) > 1:\n",
    "         ListDtype.append(i)\n",
    "    \n",
    "    print(\"Integer List:\", intlist)\n",
    "    print(\"String DataType List:\", Strlist)\n",
    "    print(\"List's List :\" , ListDtype)"
   ]
  },
  {
   "cell_type": "code",
   "execution_count": 23,
   "metadata": {},
   "outputs": [
    {
     "name": "stdout",
     "output_type": "stream",
     "text": [
      "2025-01-09 is a weekday and the Task is :Assignment submission\n",
      "2025-01-10 is a weekday and the Task is :Painting\n",
      "2025-01-11 is a weekend. No task allocated.\n",
      "2025-01-12 is a weekend. No task allocated.\n",
      "2025-01-13 is a weekday and the Task is :Bank \n"
     ]
    }
   ],
   "source": [
    "#TASK2\n",
    "from datetime import datetime, timedelta\n",
    "\n",
    "start_date = input('Enter Start date (yyyy-mm-dd): ')\n",
    "end_date = input('Enter End date (yyyy-mm-dd): ')\n",
    "\n",
    "st_date = datetime.strptime(start_date, '%Y-%m-%d')\n",
    "ed_date = datetime.strptime(end_date, '%Y-%m-%d')\n",
    "\n",
    "current_date = st_date\n",
    "while current_date <= ed_date:\n",
    "    if current_date.weekday() < 5:  \n",
    "        task = input('Enter your task: ')\n",
    "        print(f\"{current_date.date()} is a weekday and the Task is :{task}\")\n",
    "    \n",
    "    else:  \n",
    "        print(f\"{current_date.date()} is a weekend. No task allocated.\")\n",
    "    current_date += timedelta(days=1)  \n"
   ]
  },
  {
   "cell_type": "code",
   "execution_count": 10,
   "metadata": {},
   "outputs": [
    {
     "name": "stdout",
     "output_type": "stream",
     "text": [
      "------------------------------------------------------------\n",
      "                       Bill                       \n",
      "------------------------------------------------------------\n",
      "                  Hotel Kanchan                   \n",
      "               Address:Bavdhan,Pune               \n",
      "                 Tel: 02172302499                 \n",
      "------------------------------------------------------------\n",
      "Quantity   Item                               Amount\n",
      "------------------------------------------------------------\n",
      "4          Tea                                    80\n",
      "5          Hot Coffee                            125\n",
      "1          Maggi                                  50\n",
      "2          Idli                                   90\n",
      "6          Upama                                 150\n",
      "------------------------------------------------------------\n",
      "Total                                        495.00\n",
      "                    Thank you!                    \n"
     ]
    }
   ],
   "source": [
    "#TASK3\n",
    "def Bill():\n",
    "    items = {\n",
    "        \"Tea\": 20,\n",
    "        \"Hot Coffee\": 25,\n",
    "        \"Maggi\": 50,\n",
    "        \"Idli\": 45,\n",
    "        \"Dosa\": 75,\n",
    "        \"Poha\":30,\n",
    "        \"Upama\":25\n",
    "    }\n",
    "    print(\"-\" * 60)\n",
    "    print(\"{:^50}\".format(\"Bill\"))\n",
    "    print(\"-\" * 60)\n",
    "    print(\"{:^50}\".format(\"Hotel Kanchan\"))\n",
    "    print(\"{:^50}\".format(\"Address:Bavdhan,Pune\"))\n",
    "    print(\"{:^50}\".format(\"Tel: 02172302499\"))\n",
    "    print(\"-\" * 60)\n",
    "    print(\"{:<10} {:<30} {:>10}\".format(\"Quantity\", \"Item\", \"Amount\"))\n",
    "    print(\"-\" * 60)\n",
    "\n",
    "\n",
    "    total = 0\n",
    "    for item, price in items.items():\n",
    "        while True:\n",
    "            try:\n",
    "                qty=int(input(f\"Enter quantity for{item} (Price:{price}/-):\"))\n",
    "                if qty<0:\n",
    "                    print(\"Quantity cannot be negative.Please try again.\")\n",
    "                    continue\n",
    "                if qty>0:\n",
    "                    amount=qty*price\n",
    "                    total+=amount\n",
    "                    print(\"{:<10} {:<30} {:>10}\".format(qty, item, amount))\n",
    "                break\n",
    "            except ValueError:\n",
    "                print(\"Invalid input.Please enter integer for quantity\")\n",
    "    print(\"-\" * 60)\n",
    "    print(\"{:<40} {:>10.2f}\".format(\"Total\", total))\n",
    "    print(\"{:^50}\".format(\"Thank you!\"))\n",
    "\n",
    "Bill()"
   ]
  },
  {
   "cell_type": "code",
   "execution_count": 16,
   "metadata": {},
   "outputs": [
    {
     "name": "stdout",
     "output_type": "stream",
     "text": [
      "You are 22 years old, DOB :2002-09-05\n"
     ]
    }
   ],
   "source": [
    "#TASK6\n",
    "from datetime import datetime\n",
    "\n",
    "def age():\n",
    "    dob1 = input(\"Enter your date of birth (YYYY-MM-DD): \")\n",
    "    try:\n",
    "        dob = datetime.strptime(dob1, \"%Y-%m-%d\")\n",
    "        current = datetime.now()\n",
    "        age = current.year - dob.year - ((current.month, current.day) < (dob.month, dob.day))\n",
    "        print(f\"You are {age} years old, DOB :{dob1}\")\n",
    "    except ValueError:\n",
    "        print(\"Invalid date format. Please enter the date in YYYY-MM-DD format.\")\n",
    "\n",
    "age()"
   ]
  },
  {
   "cell_type": "code",
   "execution_count": 3,
   "metadata": {},
   "outputs": [
    {
     "name": "stdout",
     "output_type": "stream",
     "text": [
      "Files have been segregated into respective folders.\n"
     ]
    }
   ],
   "source": [
    "#TASK7\n",
    "import os\n",
    "import shutil\n",
    "\n",
    "def segregate(source_folder):\n",
    "\n",
    "    small_folder = os.path.join(source_folder, \"Small Size\")\n",
    "    middle_folder = os.path.join(source_folder, \"Middle Size\")\n",
    "    large_folder = os.path.join(source_folder, \"Large Size\")\n",
    "\n",
    "    os.makedirs(small_folder, exist_ok=True)\n",
    "    os.makedirs(middle_folder, exist_ok=True)\n",
    "    os.makedirs(large_folder, exist_ok=True)\n",
    "\n",
    "\n",
    "    small_size_limit = 1024 * 100  \n",
    "    middle_size_limit = 1024 * 1024 * 5 \n",
    "\n",
    "    for filename in os.listdir(source_folder):\n",
    "        file_path = os.path.join(source_folder, filename)\n",
    "\n",
    "    \n",
    "        if os.path.isdir(file_path):\n",
    "            continue\n",
    "\n",
    "        \n",
    "        file_size = os.path.getsize(file_path)\n",
    "\n",
    "        if file_size <= small_size_limit:\n",
    "            shutil.move(file_path, small_folder)\n",
    "        elif file_size <= middle_size_limit:\n",
    "            shutil.move(file_path, middle_folder)\n",
    "        else:\n",
    "            shutil.move(file_path, large_folder)\n",
    "\n",
    "    print(\"Files have been segregated into respective folders.\")\n",
    "\n",
    "source_directory = input(\"Enter the path of the folder to segregate: \").strip()\n",
    "if os.path.exists(source_directory):\n",
    "    segregate(source_directory)\n",
    "else:\n",
    "    print(\"The provided folder path does not exist.\")"
   ]
  }
 ],
 "metadata": {
  "kernelspec": {
   "display_name": "base",
   "language": "python",
   "name": "python3"
  },
  "language_info": {
   "codemirror_mode": {
    "name": "ipython",
    "version": 3
   },
   "file_extension": ".py",
   "mimetype": "text/x-python",
   "name": "python",
   "nbconvert_exporter": "python",
   "pygments_lexer": "ipython3",
   "version": "3.10.9"
  }
 },
 "nbformat": 4,
 "nbformat_minor": 2
}
